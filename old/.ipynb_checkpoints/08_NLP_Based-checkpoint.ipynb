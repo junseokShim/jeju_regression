{
 "cells": [
  {
   "cell_type": "code",
   "execution_count": 4,
   "id": "3048fb70-0124-4aaa-983e-41d0da017142",
   "metadata": {},
   "outputs": [],
   "source": [
    "import os\n",
    "import numpy as np\n",
    "\n",
    "import pandas as pd\n",
    "import matplotlib.pyplot as plt\n",
    "\n",
    "import warnings\n",
    "warnings.filterwarnings(action='ignore') "
   ]
  },
  {
   "cell_type": "code",
   "execution_count": 8,
   "id": "b02c3015-3324-4c98-8be4-f694cc6185c9",
   "metadata": {},
   "outputs": [],
   "source": [
    "import torch\n",
    "from torch.utils.data import DataLoader, TensorDataset\n",
    "from transformers import BertTokenizer, BertForSequenceClassification, AdamW"
   ]
  },
  {
   "cell_type": "markdown",
   "id": "c6c94903-f165-4dd5-a5ab-34b7cabdbac3",
   "metadata": {},
   "source": [
    "## Pretrained BERT 모델 및 토크나이저 로드\n",
    "- 'bert-base-multilingual-cased' : 다국어 지원 모델"
   ]
  },
  {
   "cell_type": "code",
   "execution_count": 10,
   "id": "d5cfcac3-ee95-40b1-984c-110be65aa03d",
   "metadata": {},
   "outputs": [
    {
     "name": "stderr",
     "output_type": "stream",
     "text": [
      "Some weights of BertForSequenceClassification were not initialized from the model checkpoint at bert-base-multilingual-cased and are newly initialized: ['classifier.bias', 'classifier.weight']\n",
      "You should probably TRAIN this model on a down-stream task to be able to use it for predictions and inference.\n"
     ]
    }
   ],
   "source": [
    "tokenizer = BertTokenizer.from_pretrained('bert-base-multilingual-cased')\n",
    "model = BertForSequenceClassification.from_pretrained('bert-base-multilingual-cased', num_labels=2)"
   ]
  },
  {
   "cell_type": "markdown",
   "id": "f8a62e0d-a986-4cfc-b222-b05220072daa",
   "metadata": {},
   "source": [
    "## Data Load 및 전처리"
   ]
  },
  {
   "cell_type": "code",
   "execution_count": 11,
   "id": "b1ed1d1c-f515-4ec5-9be0-c10d99f11662",
   "metadata": {},
   "outputs": [],
   "source": [
    "# 예시 데이터\n",
    "sentences = [\"This is a positive sentence.\", \"이 문장은 긍정적인 문장입니다.\"]\n",
    "labels = [1, 0]\n",
    "\n",
    "# BERT 입력 데이터로 변환\n",
    "inputs = tokenizer(sentences, padding=True, truncation=True, return_tensors='pt')\n",
    "labels = torch.tensor(labels)"
   ]
  },
  {
   "cell_type": "code",
   "execution_count": 39,
   "id": "9b07932a-c58b-4b3f-8bb0-1765c11403ae",
   "metadata": {},
   "outputs": [],
   "source": [
    "train = pd.read_csv('./processed_data/log_train.csv')\n",
    "test =  pd.read_csv('./processed_data/log_test.csv')\n",
    "\n",
    "# 정형 데이터 to Natural lang data\n",
    "train_texts = [', '.join([f'{c}: {train.iloc[i][c]}' for c in test.columns]) for i in range(train.shape[0])]\n",
    "test_texts = [', '.join([f'{c}: {test.iloc[i][c]}' for c in test.columns]) for i in range(test.shape[0])]\n",
    "\n",
    "# Natural lang data to Tokens\n",
    "train_texts = tokenizer(train_texts, padding=True, truncation=True, return_tensors='pt')\n",
    "labels = torch.tensor(train.log_and_filtered_price.to_numpy())\n",
    "\n",
    "test_texts  = tokenizer(test_texts, padding=True, truncation=True, return_tensors='pt')"
   ]
  },
  {
   "cell_type": "code",
   "execution_count": null,
   "id": "dc847b48-fe17-4cc2-b3a2-33d539b854c1",
   "metadata": {},
   "outputs": [],
   "source": []
  },
  {
   "cell_type": "code",
   "execution_count": null,
   "id": "f0e515c8-7d40-4e62-af18-e258eca935fa",
   "metadata": {},
   "outputs": [],
   "source": []
  }
 ],
 "metadata": {
  "kernelspec": {
   "display_name": "Python 3 (ipykernel)",
   "language": "python",
   "name": "python3"
  },
  "language_info": {
   "codemirror_mode": {
    "name": "ipython",
    "version": 3
   },
   "file_extension": ".py",
   "mimetype": "text/x-python",
   "name": "python",
   "nbconvert_exporter": "python",
   "pygments_lexer": "ipython3",
   "version": "3.9.6"
  }
 },
 "nbformat": 4,
 "nbformat_minor": 5
}
