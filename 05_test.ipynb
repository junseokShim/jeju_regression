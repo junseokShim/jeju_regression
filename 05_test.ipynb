{
 "cells": [
  {
   "cell_type": "code",
   "execution_count": 4,
   "metadata": {},
   "outputs": [
    {
     "data": {
      "application/vnd.jupyter.widget-view+json": {
       "model_id": "8c959eaf76884fbf85d665c196915e2d",
       "version_major": 2,
       "version_minor": 0
      },
      "text/plain": [
       "Downloading train-batch.pt:   0%|          | 0.00/90.0k [00:00<?, ?B/s]"
      ]
     },
     "metadata": {},
     "output_type": "display_data"
    },
    {
     "data": {
      "application/vnd.jupyter.widget-view+json": {
       "model_id": "911882993a3d4e9e875c2712121dfe66",
       "version_major": 2,
       "version_minor": 0
      },
      "text/plain": [
       "Downloading (…)lve/main/config.json:   0%|          | 0.00/1.21k [00:00<?, ?B/s]"
      ]
     },
     "metadata": {},
     "output_type": "display_data"
    },
    {
     "data": {
      "application/vnd.jupyter.widget-view+json": {
       "model_id": "f0ae625f90234ba7b82e8da95a3cfbee",
       "version_major": 2,
       "version_minor": 0
      },
      "text/plain": [
       "Downloading pytorch_model.bin:   0%|          | 0.00/151k [00:00<?, ?B/s]"
      ]
     },
     "metadata": {},
     "output_type": "display_data"
    }
   ],
   "source": [
    "from huggingface_hub import hf_hub_download\n",
    "import torch\n",
    "from transformers import TimeSeriesTransformerModel\n",
    "\n",
    "file = hf_hub_download(\n",
    "    repo_id=\"kashif/tourism-monthly-batch\", filename=\"train-batch.pt\", repo_type=\"dataset\"\n",
    ")\n",
    "batch = torch.load(file)\n",
    "\n",
    "model = TimeSeriesTransformerModel.from_pretrained(\"huggingface/time-series-transformer-tourism-monthly\")\n",
    "\n",
    "# during training, one provides both past and future values\n",
    "# as well as possible additional features\n",
    "outputs = model(\n",
    "    past_values=batch[\"past_values\"],\n",
    "    past_time_features=batch[\"past_time_features\"],\n",
    "    past_observed_mask=batch[\"past_observed_mask\"],\n",
    "    static_categorical_features=batch[\"static_categorical_features\"],\n",
    "    static_real_features=batch[\"static_real_features\"],\n",
    "    future_values=batch[\"future_values\"],\n",
    "    future_time_features=batch[\"future_time_features\"],\n",
    ")\n",
    "\n",
    "last_hidden_state = outputs.last_hidden_state"
   ]
  },
  {
   "cell_type": "code",
   "execution_count": 12,
   "metadata": {},
   "outputs": [
    {
     "data": {
      "text/plain": [
       "tensor([[29],\n",
       "        [31],\n",
       "        [32],\n",
       "        [32],\n",
       "        [32],\n",
       "        [33],\n",
       "        [33],\n",
       "        [34],\n",
       "        [34],\n",
       "        [35],\n",
       "        [37],\n",
       "        [39],\n",
       "        [44],\n",
       "        [46],\n",
       "        [47],\n",
       "        [47],\n",
       "        [49],\n",
       "        [50],\n",
       "        [50],\n",
       "        [51],\n",
       "        [52],\n",
       "        [53],\n",
       "        [53],\n",
       "        [54],\n",
       "        [54],\n",
       "        [56],\n",
       "        [56],\n",
       "        [59],\n",
       "        [60],\n",
       "        [62],\n",
       "        [63],\n",
       "        [66],\n",
       "        [67],\n",
       "        [67],\n",
       "        [68],\n",
       "        [70],\n",
       "        [70],\n",
       "        [71],\n",
       "        [72],\n",
       "        [73],\n",
       "        [75],\n",
       "        [76],\n",
       "        [76],\n",
       "        [77],\n",
       "        [77],\n",
       "        [78],\n",
       "        [78],\n",
       "        [79],\n",
       "        [80],\n",
       "        [81],\n",
       "        [82],\n",
       "        [83],\n",
       "        [83],\n",
       "        [84],\n",
       "        [84],\n",
       "        [85],\n",
       "        [86],\n",
       "        [86],\n",
       "        [86],\n",
       "        [87],\n",
       "        [88],\n",
       "        [90],\n",
       "        [92],\n",
       "        [93]])"
      ]
     },
     "execution_count": 12,
     "metadata": {},
     "output_type": "execute_result"
    }
   ],
   "source": [
    "batch['static_categorical_features']"
   ]
  },
  {
   "cell_type": "code",
   "execution_count": null,
   "metadata": {},
   "outputs": [],
   "source": []
  }
 ],
 "metadata": {
  "kernelspec": {
   "display_name": "Python 3.9.6 64-bit",
   "language": "python",
   "name": "python3"
  },
  "language_info": {
   "codemirror_mode": {
    "name": "ipython",
    "version": 3
   },
   "file_extension": ".py",
   "mimetype": "text/x-python",
   "name": "python",
   "nbconvert_exporter": "python",
   "pygments_lexer": "ipython3",
   "version": "3.9.6"
  },
  "orig_nbformat": 4,
  "vscode": {
   "interpreter": {
    "hash": "31f2aee4e71d21fbe5cf8b01ff0e069b9275f58929596ceb00d14d90e3e16cd6"
   }
  }
 },
 "nbformat": 4,
 "nbformat_minor": 2
}
